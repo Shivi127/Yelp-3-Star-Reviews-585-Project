{
 "cells": [
  {
   "cell_type": "code",
   "execution_count": 2,
   "metadata": {},
   "outputs": [
    {
     "name": "stdout",
     "output_type": "stream",
     "text": [
      "{u'funny': 0, u'user_id': u'cjpdDjZyprfyDG3RlkVG3w', u'review_id': u'VfBHSwC5Vz_pbFluy07i9Q', u'text': u'My girlfriend and I stayed here for 3 nights and loved it. The location of this hotel and very decent price makes this an amazing deal. When you walk out the front door Scott Monument and Princes street are right in front of you, Edinburgh Castle and the Royal Mile is a 2 minute walk via a close right around the corner, and there are so many hidden gems nearby including Calton Hill and the newly opened Arches that made this location incredible.\\n\\nThe hotel itself was also very nice with a reasonably priced bar, very considerate staff, and small but comfortable rooms with excellent bathrooms and showers. Only two minor complaints are no telephones in room for room service (not a huge deal for us) and no AC in the room, but they have huge windows which can be fully opened. The staff were incredible though, letting us borrow umbrellas for the rain, giving us maps and directions, and also when we had lost our only UK adapter for charging our phones gave us a very fancy one for free.\\n\\nI would highly recommend this hotel to friends, and when I return to Edinburgh (which I most definitely will) I will be staying here without any hesitation.', u'business_id': u'uYHaNptLzDLoV_JZ_MuzUA', u'stars': 5, u'date': u'2016-07-12', u'useful': 0, u'cool': 0}\n",
      "\n",
      "\n",
      "{u'funny': 0, u'user_id': u'kzyLOqiJvyw_FWFTw2rjiQ', u'review_id': u'ByRzJ8rF2KJWLr-cUNU6EA', u'text': u'This place is horrible, we were so excited to try it since I got a gift card for my birthday. We went in an ordered are whole meal and they did not except are gift card, because their system was down. Unacceptable, this would have been so helpful if we would have known this prior!!', u'business_id': u'jQsNFOzDpxPmOurSWCg1vQ', u'stars': 1, u'date': u'2017-06-03', u'useful': 0, u'cool': 0}\n"
     ]
    }
   ],
   "source": [
    "run NaiveBayesYelp"
   ]
  },
  {
   "cell_type": "code",
   "execution_count": null,
   "metadata": {
    "collapsed": true
   },
   "outputs": [],
   "source": []
  }
 ],
 "metadata": {
  "kernelspec": {
   "display_name": "Python 2",
   "language": "python",
   "name": "python2"
  },
  "language_info": {
   "codemirror_mode": {
    "name": "ipython",
    "version": 2
   },
   "file_extension": ".py",
   "mimetype": "text/x-python",
   "name": "python",
   "nbconvert_exporter": "python",
   "pygments_lexer": "ipython2",
   "version": "2.7.13"
  }
 },
 "nbformat": 4,
 "nbformat_minor": 2
}
