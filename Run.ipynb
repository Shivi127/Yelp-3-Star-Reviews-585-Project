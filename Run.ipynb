{
 "cells": [
  {
   "cell_type": "code",
   "execution_count": 1,
   "metadata": {},
   "outputs": [
    {
     "name": "stderr",
     "output_type": "stream",
     "text": [
      "  0%|          | 0/1000 [00:00<?, ?it/s]\n",
      " 63%|██████▎   | 630/1000 [00:13<57:10,  9.27s/it]\n",
      "100%|██████████| 1000/1000 [00:14<00:00, 68.82it/s]\n",
      "100%|██████████| 100/100 [00:14<00:00,  6.88it/s]\n",
      "  0%|          | 0/1000 [00:00<?, ?it/s]\n",
      " 80%|████████  | 802/1000 [00:12<06:27,  1.96s/it]  \n",
      "100%|██████████| 1000/1000 [00:13<00:00, 74.46it/s]\n",
      "100%|██████████| 100/100 [00:13<00:00,  7.45it/s]\n"
     ]
    }
   ],
   "source": [
    "import CustomNaiveBayesYelp as cnby"
   ]
  },
  {
   "cell_type": "code",
   "execution_count": 2,
   "metadata": {},
   "outputs": [
    {
     "name": "stderr",
     "output_type": "stream",
     "text": [
      "100%|██████████| 1000/1000 [00:00<00:00, 7407.41it/s]\n",
      "100%|██████████| 1000/1000 [00:00<00:00, 6097.56it/s]\n"
     ]
    },
    {
     "name": "stdout",
     "output_type": "stream",
     "text": [
      "REPORTING CORPUS STATISTICS\n",
      "NUMBER OF REVIEWS IN POSITIVE CLASS: 1000.0\n",
      "NUMBER OF REVIEWS IN NEGATIVE CLASS: 1000.0\n",
      "NUMBER OF TOKENS IN POSITIVE CLASS: 94580.0\n",
      "NUMBER OF TOKENS IN NEGATIVE CLASS: 129058.0\n",
      "VOCABULARY SIZE: NUMBER OF UNIQUE WORDTYPES IN TRAINING CORPUS: 21274\n",
      "50 MOST COMMON WORDS IN POS REVIEWS: [(u'the', 4504.0), (u'and', 3324.0), (u'a', 2695.0), (u'i', 2178.0), (u'to', 1977.0), (u'of', 1644.0), (u'is', 1487.0), (u'was', 1174.0), (u'in', 1054.0), (u'for', 996.0), (u'it', 926.0), (u'they', 878.0), (u'this', 842.0), (u'that', 776.0), (u'with', 758.0), (u'you', 740.0), (u'my', 685.0), (u'on', 669.0), (u'have', 660.0), (u'but', 624.0), (u'are', 590.0), (u'great', 497.0), (u'we', 497.0), (u'place', 473.0), (u'their', 451.0), (u'so', 442.0), (u'as', 438.0), (u'be', 393.0), (u'had', 385.0), (u'not', 362.0), (u'at', 358.0), (u'good', 345.0), (u'were', 330.0), (u\"it's\", 325.0), (u'very', 320.0), (u'if', 319.0), (u'from', 316.0), (u'here', 305.0), (u'there', 301.0), (u'food', 298.0), (u'beer', 292.0), (u'all', 292.0), (u'like', 290.0), (u'some', 281.0), (u'really', 275.0), (u'one', 274.0), (u'can', 273.0), (u'get', 272.0), (u'just', 268.0), (u'out', 260.0)]\n",
      "50 MOST COMMON WORDS IN NEG REVIEWS: [(u'the', 6158.0), (u'i', 4026.0), (u'and', 3872.0), (u'to', 3553.0), (u'a', 3048.0), (u'was', 2152.0), (u'of', 1655.0), (u'it', 1537.0), (u'for', 1410.0), (u'my', 1311.0), (u'in', 1310.0), (u'is', 1270.0), (u'that', 1192.0), (u'they', 1127.0), (u'this', 1116.0), (u'not', 1034.0), (u'we', 962.0), (u'but', 939.0), (u'with', 865.0), (u'on', 851.0), (u'at', 850.0), (u'have', 777.0), (u'you', 757.0), (u'so', 621.0), (u'were', 617.0), (u'had', 597.0), (u'be', 577.0), (u'me', 562.0), (u'are', 547.0), (u'there', 525.0), (u'if', 501.0), (u'just', 485.0), (u'as', 483.0), (u'she', 482.0), (u'when', 481.0), (u'one', 474.0), (u'get', 473.0), (u'like', 460.0), (u'our', 411.0), (u'no', 404.0), (u'out', 397.0), (u'or', 375.0), (u'all', 366.0), (u'he', 352.0), (u'place', 350.0), (u'up', 331.0), (u'time', 328.0), (u'food', 327.0), (u'their', 324.0), (u\"it's\", 321.0)]\n"
     ]
    }
   ],
   "source": [
    "cnby.train_NB_model()"
   ]
  },
  {
   "cell_type": "code",
   "execution_count": 3,
   "metadata": {},
   "outputs": [
    {
     "name": "stdout",
     "output_type": "stream",
     "text": [
      "Accuracy of classifier:  "
     ]
    },
    {
     "name": "stderr",
     "output_type": "stream",
     "text": [
      "100%|██████████| 100/100 [00:00<00:00, 2040.82it/s]\n",
      "100%|██████████| 100/100 [00:00<00:00, 2173.91it/s]\n"
     ]
    },
    {
     "name": "stdout",
     "output_type": "stream",
     "text": [
      " 95.3846153846\n"
     ]
    }
   ],
   "source": [
    "cnby.test_NB_model()"
   ]
  },
  {
   "cell_type": "code",
   "execution_count": 4,
   "metadata": {},
   "outputs": [
    {
     "name": "stdout",
     "output_type": "stream",
     "text": [
      "Accuracy of TextBlob's Pattern Analyzer:  "
     ]
    },
    {
     "name": "stderr",
     "output_type": "stream",
     "text": [
      "100%|██████████| 100/100 [00:14<00:00,  7.03it/s]\n",
      "100%|██████████| 100/100 [00:13<00:00,  7.40it/s]\n"
     ]
    },
    {
     "name": "stdout",
     "output_type": "stream",
     "text": [
      " 74.5\n",
      "Accuracy of TextBlob's Naive Bayes Analyzer:  "
     ]
    },
    {
     "name": "stderr",
     "output_type": "stream",
     "text": [
      "100%|██████████| 100/100 [00:22<00:00,  4.42it/s]\n",
      "100%|██████████| 100/100 [00:13<00:00,  7.46it/s]\n"
     ]
    },
    {
     "name": "stdout",
     "output_type": "stream",
     "text": [
      " 65.5\n"
     ]
    }
   ],
   "source": [
    "run TextBlobYelp"
   ]
  },
  {
   "cell_type": "code",
   "execution_count": null,
   "metadata": {
    "collapsed": true
   },
   "outputs": [],
   "source": []
  }
 ],
 "metadata": {
  "kernelspec": {
   "display_name": "Python 2",
   "language": "python",
   "name": "python2"
  },
  "language_info": {
   "codemirror_mode": {
    "name": "ipython",
    "version": 2
   },
   "file_extension": ".py",
   "mimetype": "text/x-python",
   "name": "python",
   "nbconvert_exporter": "python",
   "pygments_lexer": "ipython2",
   "version": "2.7.13"
  }
 },
 "nbformat": 4,
 "nbformat_minor": 2
}
