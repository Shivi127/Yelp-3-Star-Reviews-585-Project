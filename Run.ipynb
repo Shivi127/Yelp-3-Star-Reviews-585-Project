{
 "cells": [
  {
   "cell_type": "code",
   "execution_count": 1,
   "metadata": {},
   "outputs": [
    {
     "name": "stderr",
     "output_type": "stream",
     "text": [
      "  0%|          | 0/1000 [00:00<?, ?it/s]\n",
      " 63%|██████▎   | 630/1000 [00:13<57:10,  9.27s/it]\n",
      "100%|██████████| 1000/1000 [00:14<00:00, 68.82it/s]\n",
      "100%|██████████| 100/100 [00:14<00:00,  6.88it/s]\n",
      "  0%|          | 0/1000 [00:00<?, ?it/s]\n",
      " 80%|████████  | 802/1000 [00:12<06:27,  1.96s/it]  \n",
      "100%|██████████| 1000/1000 [00:13<00:00, 74.46it/s]\n",
      "100%|██████████| 100/100 [00:13<00:00,  7.45it/s]\n"
     ]
    }
   ],
   "source": [
    "import CustomNaiveBayesYelp as cnby"
   ]
  },
  {
   "cell_type": "code",
   "execution_count": 2,
   "metadata": {},
   "outputs": [
    {
     "name": "stderr",
     "output_type": "stream",
     "text": [
      "100%|██████████| 1000/1000 [00:00<00:00, 7407.41it/s]\n",
      "100%|██████████| 1000/1000 [00:00<00:00, 6097.56it/s]\n"
     ]
    },
    {
     "name": "stdout",
     "output_type": "stream",
     "text": [
      "REPORTING CORPUS STATISTICS\n",
      "NUMBER OF REVIEWS IN POSITIVE CLASS: 1000.0\n",
      "NUMBER OF REVIEWS IN NEGATIVE CLASS: 1000.0\n",
      "NUMBER OF TOKENS IN POSITIVE CLASS: 94580.0\n",
      "NUMBER OF TOKENS IN NEGATIVE CLASS: 129058.0\n",
      "VOCABULARY SIZE: NUMBER OF UNIQUE WORDTYPES IN TRAINING CORPUS: 21274\n",
      "50 MOST COMMON WORDS IN POS REVIEWS: [(u'the', 4504.0), (u'and', 3324.0), (u'a', 2695.0), (u'i', 2178.0), (u'to', 1977.0), (u'of', 1644.0), (u'is', 1487.0), (u'was', 1174.0), (u'in', 1054.0), (u'for', 996.0), (u'it', 926.0), (u'they', 878.0), (u'this', 842.0), (u'that', 776.0), (u'with', 758.0), (u'you', 740.0), (u'my', 685.0), (u'on', 669.0), (u'have', 660.0), (u'but', 624.0), (u'are', 590.0), (u'great', 497.0), (u'we', 497.0), (u'place', 473.0), (u'their', 451.0), (u'so', 442.0), (u'as', 438.0), (u'be', 393.0), (u'had', 385.0), (u'not', 362.0), (u'at', 358.0), (u'good', 345.0), (u'were', 330.0), (u\"it's\", 325.0), (u'very', 320.0), (u'if', 319.0), (u'from', 316.0), (u'here', 305.0), (u'there', 301.0), (u'food', 298.0), (u'beer', 292.0), (u'all', 292.0), (u'like', 290.0), (u'some', 281.0), (u'really', 275.0), (u'one', 274.0), (u'can', 273.0), (u'get', 272.0), (u'just', 268.0), (u'out', 260.0)]\n",
      "50 MOST COMMON WORDS IN NEG REVIEWS: [(u'the', 6158.0), (u'i', 4026.0), (u'and', 3872.0), (u'to', 3553.0), (u'a', 3048.0), (u'was', 2152.0), (u'of', 1655.0), (u'it', 1537.0), (u'for', 1410.0), (u'my', 1311.0), (u'in', 1310.0), (u'is', 1270.0), (u'that', 1192.0), (u'they', 1127.0), (u'this', 1116.0), (u'not', 1034.0), (u'we', 962.0), (u'but', 939.0), (u'with', 865.0), (u'on', 851.0), (u'at', 850.0), (u'have', 777.0), (u'you', 757.0), (u'so', 621.0), (u'were', 617.0), (u'had', 597.0), (u'be', 577.0), (u'me', 562.0), (u'are', 547.0), (u'there', 525.0), (u'if', 501.0), (u'just', 485.0), (u'as', 483.0), (u'she', 482.0), (u'when', 481.0), (u'one', 474.0), (u'get', 473.0), (u'like', 460.0), (u'our', 411.0), (u'no', 404.0), (u'out', 397.0), (u'or', 375.0), (u'all', 366.0), (u'he', 352.0), (u'place', 350.0), (u'up', 331.0), (u'time', 328.0), (u'food', 327.0), (u'their', 324.0), (u\"it's\", 321.0)]\n"
     ]
    }
   ],
   "source": [
    "cnby.train_NB_model()"
   ]
  },
  {
   "cell_type": "code",
   "execution_count": 3,
   "metadata": {},
   "outputs": [
    {
     "name": "stdout",
     "output_type": "stream",
     "text": [
      "Accuracy of classifier:  "
     ]
    },
    {
     "name": "stderr",
     "output_type": "stream",
     "text": [
      "100%|██████████| 100/100 [00:00<00:00, 2040.82it/s]\n",
      "100%|██████████| 100/100 [00:00<00:00, 2173.91it/s]\n"
     ]
    },
    {
     "name": "stdout",
     "output_type": "stream",
     "text": [
      " 95.3846153846\n"
     ]
    }
   ],
   "source": [
    "cnby.test_NB_model()"
   ]
  },
  {
   "cell_type": "code",
   "execution_count": 4,
   "metadata": {},
   "outputs": [
    {
     "name": "stdout",
     "output_type": "stream",
     "text": [
      "Accuracy of TextBlob's Pattern Analyzer:  "
     ]
    },
    {
     "name": "stderr",
     "output_type": "stream",
     "text": [
      "100%|██████████| 100/100 [00:14<00:00,  7.03it/s]\n",
      "100%|██████████| 100/100 [00:13<00:00,  7.40it/s]\n"
     ]
    },
    {
     "name": "stdout",
     "output_type": "stream",
     "text": [
      " 74.5\n",
      "Accuracy of TextBlob's Naive Bayes Analyzer:  "
     ]
    },
    {
     "name": "stderr",
     "output_type": "stream",
     "text": [
      "100%|██████████| 100/100 [00:22<00:00,  4.42it/s]\n",
      "100%|██████████| 100/100 [00:13<00:00,  7.46it/s]\n"
     ]
    },
    {
     "name": "stdout",
     "output_type": "stream",
     "text": [
      " 65.5\n"
     ]
    }
   ],
   "source": [
    "run TextBlobYelp"
   ]
  },
  {
   "cell_type": "code",
   "execution_count": 1,
   "metadata": {
    "collapsed": true
   },
   "outputs": [],
   "source": [
    "from ParseYelpData import stream_pos_reviews, stream_neg_reviews, stream_neut_reviews\n"
   ]
  },
  {
   "cell_type": "code",
   "execution_count": 3,
   "metadata": {
    "collapsed": true
   },
   "outputs": [],
   "source": [
    "review_json = \"../Yelp_dataset/review.json\"\n",
    "business_json = \"../Yelp_dataset/business.json\""
   ]
  },
  {
   "cell_type": "code",
   "execution_count": 8,
   "metadata": {},
   "outputs": [
    {
     "name": "stdout",
     "output_type": "stream",
     "text": [
      "My go to place to study!  They play great music at a volume where you can still hear yourself think.  It's almost never crowded, and the people that come there generally are reading or studying.  They have an amazing tea collection, with equally good food and even grilled cheese sandwiches (with the option to add tomato :) )  One of the walls has some cute benches that are padded, making it a perfect place to wrap your hands around your warm cup of tea and read a book.  I agree with Rachel C, I wish they had high tea, that would make it perfect!  The only drawback is that it's small, and there aren't a lot of places to sit.  If you are the mood to try a variety of tea, or just need a place to study/relax this is it!\n",
      "\n",
      "\n",
      "This place is ridiculously cute, colorful, and cozy, with a huge selection of loose leaf teas.  They offer teas by the pot only, except for iced teas (during warm months) which come by the cup.  They range from $3 to $4 per pot depending on how fancy the tea is.\n",
      "\n",
      "The staff here has been friendly every time I've been.  They are always keen on offering suggestions if you ask!  Last time, I was struggling between going for a fruity tea vs. a chocolatey tea, and the girl working suggested this chocolate peppermint tea blend that was not on the menu but that she had made for herself the other day.  I tried it, and it was AMAZING!\n",
      "\n",
      "My experiences with the food here (from at least a year ago) have been great as well.  They have their own pastries as well as a selection from a nearby bakery.  Savory offerings include grilled cheeses, soups, and sometimes specials.\n",
      "\n",
      "One small gripe I have is that their teapots tend to, for whatever reason or another, leak some tea leaves and residue when you pour into your cup.  I suspect it's because the filter is not super fine and so small bits from the tea mixture can fall through.  It's never been a major problem, though.\n",
      "\n",
      "You can always find fun, seasonal specialty drinks here too (e.g. hot apple cider in the fall), in addition to coffee, if tea isn't your thing.  Newspapers and reading materials are usually available to pick up, and there are board games in the back.  This is a great place for a rainy (or cold) day!\n",
      "\n",
      "\n",
      "You can purchase from a huge variety of loose leaf teas. It's one of the few places I know that really pays attention to brew times and water temperature. The smoothies are fresh and taste very natural. If you order in, they'll give you your drink in a cup that looks smaller than if you order to-go. They have nice metal counters with lots of plug in places for your laptop. The benches aren't terribly comfortable, but the couches are. Plus, the people behind the counter are great!\n",
      "\n",
      "\n",
      "I dropped by Te Cafe a week ago with CM to check out their offerings. As a tea lover, having passed it many times on Murray, I'd long been curious about it. My friends who live nearby never wanted to go, however, since they prefer Dobra Tea across the street. Last week, CM wanted to get a hot beverage in the area, and he was game for checking it out, so I was able to do so.\n",
      "\n",
      "When we went to order, the menu had loose leaf teas listed by type (columns) and by grade (rows), which determined their price.  While you can buy them by the cup, if you're with other people or you're planning on hanging out for awhile, it usually makes more sense to get a pot, since each pot provides 2-3 infusions, and hot water is free.  We decided on a pot of the milk (?) oolong ($4.50), recommended by the barista, which was on the lighter side and was quite pleasant.  Once we'd had a pot and refilled it with hot water for a second infusion, we also got a pesto grilled cheese sandwich with tomato as a snack ($4.75), which was crisp and super-flavorful (thanks for the recommendation, fellow Yelpers!), and complemented the tea well.\n",
      "\n",
      "My favorite part of Te Cafe, however, was the board games that can be found on the back shelf and front table.  Unfortunately, not all of them are complete, as CM and I found out when we picked up the Ultimate Scenario Game (?), but those that are make for a fun time!  We ended up playing dominoes--which I'd never played with as a game before (just setting them up in rows and knocking them down ;-) ). Since the first two games went quickly, with each of us winning one, we played best out of three. The last game went on to the point I thought we were going to run out of dominoes, but I eventually won.  Yay!\n",
      "\n",
      "While I understand my friends' preference for Dobra, given that they have a more extensive menu of tea and snacks and a more unique Asian tea house-like atmosphere, I enjoyed Te Cafe for a change of pace. I'd definitely return for another visit in the future to sample more interesting teas--and to play another round of dominoes!\n",
      "\n",
      "\n",
      "Came on a weekday afternoon to study and it was a good environment to do so. I got salmon sushi for a great price, and the pots of tea with free refills are a great deal too. The employees are friendly and attentive. This place seemed like a nice casual place to spend a few hours studying, and I'd definitely recommend it to others.\n",
      "\n",
      "\n"
     ]
    }
   ],
   "source": [
    "count = 0\n",
    "for pos_review in stream_pos_reviews(review_json, business_json):\n",
    "    if count < 5:\n",
    "        print pos_review\n",
    "        print \"\\n\"\n",
    "        count += 1\n",
    "    else:\n",
    "        break"
   ]
  },
  {
   "cell_type": "code",
   "execution_count": 4,
   "metadata": {},
   "outputs": [
    {
     "name": "stdout",
     "output_type": "stream",
     "text": [
      "Te Cafe does tea well.They have an outstanding selection of teas, and they are very careful with brewing and all of that.\n",
      "\n",
      "They also have a nice selection of board games and big tables to play on, which is a nice addition.\n",
      "\n",
      "One thing kills it for me: the music is ABYSMAL. New age, strummy folky wispy Lilith fair crap every time. I still keep coming back from time to time when I have a tea craving but WOW.\n",
      "\n",
      "\n",
      "Really interesting tea flavors. Stop by if your in the neighborhood.\n",
      "\n",
      "\n",
      "I really enjoy Jamaican food and was excited to see a Golden Krust in Charlotte.  The food was average and I didn't get to try the items I really wanted or any patties. I came in at 11:15 and they told me that most of the menu wouldn't be out til noon.  \n",
      "\n",
      "I may come back to try the patties.\n",
      "\n",
      "\n",
      "Love the veggie patties, when they are available...haven't really eaten anything else there.\n",
      "\n",
      "\n",
      "The roti here is an improvement on the other Jamaican restaurants I've eaten at in Charlotte. I'm from Brooklyn, so I'm used to having maximum food for a great price. Not so in Charlotte, for the minimal amount of oxtail, the price could be a bit lower. There is no reason to pay a high price for lots of rice and cabbage but a scoop of oxtail. \n",
      "\n",
      "I'm definitely not expecting oxtails to dominate the plate, but the serving my daughter had was enough to convince me I won't be getting anything other than beef patties here. That is, when they actually have any available.\n",
      "\n",
      "\n"
     ]
    }
   ],
   "source": [
    "count = 0\n",
    "for neut_review in stream_neut_reviews(review_json, business_json):\n",
    "    if count < 5:\n",
    "        print neut_review\n",
    "        print \"\\n\"\n",
    "        count += 1\n",
    "    else:\n",
    "        break"
   ]
  },
  {
   "cell_type": "code",
   "execution_count": null,
   "metadata": {
    "collapsed": true
   },
   "outputs": [],
   "source": []
  }
 ],
 "metadata": {
  "kernelspec": {
   "display_name": "Python 2",
   "language": "python",
   "name": "python2"
  },
  "language_info": {
   "codemirror_mode": {
    "name": "ipython",
    "version": 2
   },
   "file_extension": ".py",
   "mimetype": "text/x-python",
   "name": "python",
   "nbconvert_exporter": "python",
   "pygments_lexer": "ipython2",
   "version": "2.7.13"
  }
 },
 "nbformat": 4,
 "nbformat_minor": 2
}
